{
 "cells": [
  {
   "cell_type": "markdown",
   "metadata": {},
   "source": [
    "### Importing the libraries"
   ]
  },
  {
   "cell_type": "code",
   "execution_count": 1,
   "metadata": {},
   "outputs": [],
   "source": [
    "import numpy as np\n",
    "import pandas as pd"
   ]
  },
  {
   "cell_type": "markdown",
   "metadata": {},
   "source": [
    "### Reading the dataset as a dataframe"
   ]
  },
  {
   "cell_type": "code",
   "execution_count": 2,
   "metadata": {},
   "outputs": [],
   "source": [
    "df = pd.read_csv('C:/dmDATA/all_data/listings.csv')"
   ]
  },
  {
   "cell_type": "code",
   "execution_count": 3,
   "metadata": {},
   "outputs": [
    {
     "data": {
      "text/html": [
       "<div>\n",
       "<style scoped>\n",
       "    .dataframe tbody tr th:only-of-type {\n",
       "        vertical-align: middle;\n",
       "    }\n",
       "\n",
       "    .dataframe tbody tr th {\n",
       "        vertical-align: top;\n",
       "    }\n",
       "\n",
       "    .dataframe thead th {\n",
       "        text-align: right;\n",
       "    }\n",
       "</style>\n",
       "<table border=\"1\" class=\"dataframe\">\n",
       "  <thead>\n",
       "    <tr style=\"text-align: right;\">\n",
       "      <th></th>\n",
       "      <th>id</th>\n",
       "      <th>name</th>\n",
       "      <th>host_id</th>\n",
       "      <th>host_name</th>\n",
       "      <th>neighbourhood_group</th>\n",
       "      <th>neighbourhood</th>\n",
       "      <th>latitude</th>\n",
       "      <th>longitude</th>\n",
       "      <th>room_type</th>\n",
       "      <th>price</th>\n",
       "      <th>minimum_nights</th>\n",
       "      <th>number_of_reviews</th>\n",
       "      <th>last_review</th>\n",
       "      <th>reviews_per_month</th>\n",
       "      <th>calculated_host_listings_count</th>\n",
       "      <th>availability_365</th>\n",
       "      <th>number_of_reviews_ltm</th>\n",
       "      <th>license</th>\n",
       "    </tr>\n",
       "  </thead>\n",
       "  <tbody>\n",
       "    <tr>\n",
       "      <th>0</th>\n",
       "      <td>71609</td>\n",
       "      <td>Ensuite Room (Room 1 &amp; 2) near EXPO</td>\n",
       "      <td>367042</td>\n",
       "      <td>Belinda</td>\n",
       "      <td>East Region</td>\n",
       "      <td>Tampines</td>\n",
       "      <td>1.34537</td>\n",
       "      <td>103.95887</td>\n",
       "      <td>Private room</td>\n",
       "      <td>NaN</td>\n",
       "      <td>92</td>\n",
       "      <td>19</td>\n",
       "      <td>2020-01-17</td>\n",
       "      <td>0.12</td>\n",
       "      <td>6</td>\n",
       "      <td>89</td>\n",
       "      <td>0</td>\n",
       "      <td>NaN</td>\n",
       "    </tr>\n",
       "    <tr>\n",
       "      <th>1</th>\n",
       "      <td>71896</td>\n",
       "      <td>B&amp;B  Room 1 near Airport &amp; EXPO</td>\n",
       "      <td>367042</td>\n",
       "      <td>Belinda</td>\n",
       "      <td>East Region</td>\n",
       "      <td>Tampines</td>\n",
       "      <td>1.34754</td>\n",
       "      <td>103.95958</td>\n",
       "      <td>Private room</td>\n",
       "      <td>80.0</td>\n",
       "      <td>92</td>\n",
       "      <td>24</td>\n",
       "      <td>2019-10-13</td>\n",
       "      <td>0.15</td>\n",
       "      <td>6</td>\n",
       "      <td>148</td>\n",
       "      <td>0</td>\n",
       "      <td>NaN</td>\n",
       "    </tr>\n",
       "    <tr>\n",
       "      <th>2</th>\n",
       "      <td>71903</td>\n",
       "      <td>Room 2-near Airport &amp; EXPO</td>\n",
       "      <td>367042</td>\n",
       "      <td>Belinda</td>\n",
       "      <td>East Region</td>\n",
       "      <td>Tampines</td>\n",
       "      <td>1.34531</td>\n",
       "      <td>103.96100</td>\n",
       "      <td>Private room</td>\n",
       "      <td>80.0</td>\n",
       "      <td>92</td>\n",
       "      <td>46</td>\n",
       "      <td>2020-01-09</td>\n",
       "      <td>0.29</td>\n",
       "      <td>6</td>\n",
       "      <td>90</td>\n",
       "      <td>0</td>\n",
       "      <td>NaN</td>\n",
       "    </tr>\n",
       "    <tr>\n",
       "      <th>3</th>\n",
       "      <td>275343</td>\n",
       "      <td>10min walk to MRT &amp; a Cozy Room with window! (1)</td>\n",
       "      <td>1439258</td>\n",
       "      <td>Kay</td>\n",
       "      <td>Central Region</td>\n",
       "      <td>Bukit Merah</td>\n",
       "      <td>1.29015</td>\n",
       "      <td>103.80814</td>\n",
       "      <td>Private room</td>\n",
       "      <td>50.0</td>\n",
       "      <td>180</td>\n",
       "      <td>20</td>\n",
       "      <td>2022-08-13</td>\n",
       "      <td>0.15</td>\n",
       "      <td>49</td>\n",
       "      <td>62</td>\n",
       "      <td>0</td>\n",
       "      <td>S0399</td>\n",
       "    </tr>\n",
       "    <tr>\n",
       "      <th>4</th>\n",
       "      <td>275344</td>\n",
       "      <td>15 mins to Outram MRT Single Room (2)</td>\n",
       "      <td>1439258</td>\n",
       "      <td>Kay</td>\n",
       "      <td>Central Region</td>\n",
       "      <td>Bukit Merah</td>\n",
       "      <td>1.28836</td>\n",
       "      <td>103.81144</td>\n",
       "      <td>Private room</td>\n",
       "      <td>50.0</td>\n",
       "      <td>180</td>\n",
       "      <td>16</td>\n",
       "      <td>2023-08-16</td>\n",
       "      <td>0.11</td>\n",
       "      <td>49</td>\n",
       "      <td>0</td>\n",
       "      <td>2</td>\n",
       "      <td>S0399</td>\n",
       "    </tr>\n",
       "  </tbody>\n",
       "</table>\n",
       "</div>"
      ],
      "text/plain": [
       "       id                                              name  host_id  \\\n",
       "0   71609               Ensuite Room (Room 1 & 2) near EXPO   367042   \n",
       "1   71896                   B&B  Room 1 near Airport & EXPO   367042   \n",
       "2   71903                        Room 2-near Airport & EXPO   367042   \n",
       "3  275343  10min walk to MRT & a Cozy Room with window! (1)  1439258   \n",
       "4  275344             15 mins to Outram MRT Single Room (2)  1439258   \n",
       "\n",
       "  host_name neighbourhood_group neighbourhood  latitude  longitude  \\\n",
       "0   Belinda         East Region      Tampines   1.34537  103.95887   \n",
       "1   Belinda         East Region      Tampines   1.34754  103.95958   \n",
       "2   Belinda         East Region      Tampines   1.34531  103.96100   \n",
       "3       Kay      Central Region   Bukit Merah   1.29015  103.80814   \n",
       "4       Kay      Central Region   Bukit Merah   1.28836  103.81144   \n",
       "\n",
       "      room_type  price  minimum_nights  number_of_reviews last_review  \\\n",
       "0  Private room    NaN              92                 19  2020-01-17   \n",
       "1  Private room   80.0              92                 24  2019-10-13   \n",
       "2  Private room   80.0              92                 46  2020-01-09   \n",
       "3  Private room   50.0             180                 20  2022-08-13   \n",
       "4  Private room   50.0             180                 16  2023-08-16   \n",
       "\n",
       "   reviews_per_month  calculated_host_listings_count  availability_365  \\\n",
       "0               0.12                               6                89   \n",
       "1               0.15                               6               148   \n",
       "2               0.29                               6                90   \n",
       "3               0.15                              49                62   \n",
       "4               0.11                              49                 0   \n",
       "\n",
       "   number_of_reviews_ltm license  \n",
       "0                      0     NaN  \n",
       "1                      0     NaN  \n",
       "2                      0     NaN  \n",
       "3                      0   S0399  \n",
       "4                      2   S0399  "
      ]
     },
     "execution_count": 3,
     "metadata": {},
     "output_type": "execute_result"
    }
   ],
   "source": [
    "df.head()"
   ]
  },
  {
   "cell_type": "markdown",
   "metadata": {},
   "source": [
    "### Discovering the dataset"
   ]
  },
  {
   "cell_type": "code",
   "execution_count": 4,
   "metadata": {},
   "outputs": [
    {
     "name": "stdout",
     "output_type": "stream",
     "text": [
      "<class 'pandas.core.frame.DataFrame'>\n",
      "RangeIndex: 3540 entries, 0 to 3539\n",
      "Data columns (total 18 columns):\n",
      " #   Column                          Non-Null Count  Dtype  \n",
      "---  ------                          --------------  -----  \n",
      " 0   id                              3540 non-null   int64  \n",
      " 1   name                            3540 non-null   object \n",
      " 2   host_id                         3540 non-null   int64  \n",
      " 3   host_name                       3540 non-null   object \n",
      " 4   neighbourhood_group             3540 non-null   object \n",
      " 5   neighbourhood                   3540 non-null   object \n",
      " 6   latitude                        3540 non-null   float64\n",
      " 7   longitude                       3540 non-null   float64\n",
      " 8   room_type                       3540 non-null   object \n",
      " 9   price                           2759 non-null   float64\n",
      " 10  minimum_nights                  3540 non-null   int64  \n",
      " 11  number_of_reviews               3540 non-null   int64  \n",
      " 12  last_review                     1805 non-null   object \n",
      " 13  reviews_per_month               1805 non-null   float64\n",
      " 14  calculated_host_listings_count  3540 non-null   int64  \n",
      " 15  availability_365                3540 non-null   int64  \n",
      " 16  number_of_reviews_ltm           3540 non-null   int64  \n",
      " 17  license                         1501 non-null   object \n",
      "dtypes: float64(4), int64(7), object(7)\n",
      "memory usage: 497.9+ KB\n"
     ]
    }
   ],
   "source": [
    "df.info()"
   ]
  },
  {
   "cell_type": "code",
   "execution_count": 5,
   "metadata": {},
   "outputs": [
    {
     "data": {
      "text/html": [
       "<div>\n",
       "<style scoped>\n",
       "    .dataframe tbody tr th:only-of-type {\n",
       "        vertical-align: middle;\n",
       "    }\n",
       "\n",
       "    .dataframe tbody tr th {\n",
       "        vertical-align: top;\n",
       "    }\n",
       "\n",
       "    .dataframe thead th {\n",
       "        text-align: right;\n",
       "    }\n",
       "</style>\n",
       "<table border=\"1\" class=\"dataframe\">\n",
       "  <thead>\n",
       "    <tr style=\"text-align: right;\">\n",
       "      <th></th>\n",
       "      <th>id</th>\n",
       "      <th>host_id</th>\n",
       "      <th>latitude</th>\n",
       "      <th>longitude</th>\n",
       "      <th>price</th>\n",
       "      <th>minimum_nights</th>\n",
       "      <th>number_of_reviews</th>\n",
       "      <th>reviews_per_month</th>\n",
       "      <th>calculated_host_listings_count</th>\n",
       "      <th>availability_365</th>\n",
       "      <th>number_of_reviews_ltm</th>\n",
       "    </tr>\n",
       "  </thead>\n",
       "  <tbody>\n",
       "    <tr>\n",
       "      <th>count</th>\n",
       "      <td>3.540000e+03</td>\n",
       "      <td>3.540000e+03</td>\n",
       "      <td>3540.000000</td>\n",
       "      <td>3540.000000</td>\n",
       "      <td>2759.000000</td>\n",
       "      <td>3540.000000</td>\n",
       "      <td>3540.000000</td>\n",
       "      <td>1805.000000</td>\n",
       "      <td>3540.000000</td>\n",
       "      <td>3540.000000</td>\n",
       "      <td>3540.000000</td>\n",
       "    </tr>\n",
       "    <tr>\n",
       "      <th>mean</th>\n",
       "      <td>4.046376e+17</td>\n",
       "      <td>1.702217e+08</td>\n",
       "      <td>1.309677</td>\n",
       "      <td>103.843171</td>\n",
       "      <td>270.770207</td>\n",
       "      <td>63.420621</td>\n",
       "      <td>10.823446</td>\n",
       "      <td>0.620726</td>\n",
       "      <td>46.374011</td>\n",
       "      <td>248.570056</td>\n",
       "      <td>2.432768</td>\n",
       "    </tr>\n",
       "    <tr>\n",
       "      <th>std</th>\n",
       "      <td>4.747930e+17</td>\n",
       "      <td>1.689349e+08</td>\n",
       "      <td>0.030319</td>\n",
       "      <td>0.042670</td>\n",
       "      <td>644.669294</td>\n",
       "      <td>56.104308</td>\n",
       "      <td>37.480765</td>\n",
       "      <td>1.584823</td>\n",
       "      <td>65.204057</td>\n",
       "      <td>132.199020</td>\n",
       "      <td>12.405540</td>\n",
       "    </tr>\n",
       "    <tr>\n",
       "      <th>min</th>\n",
       "      <td>7.160900e+04</td>\n",
       "      <td>2.366600e+04</td>\n",
       "      <td>1.221690</td>\n",
       "      <td>103.634572</td>\n",
       "      <td>19.000000</td>\n",
       "      <td>1.000000</td>\n",
       "      <td>0.000000</td>\n",
       "      <td>0.010000</td>\n",
       "      <td>1.000000</td>\n",
       "      <td>0.000000</td>\n",
       "      <td>0.000000</td>\n",
       "    </tr>\n",
       "    <tr>\n",
       "      <th>25%</th>\n",
       "      <td>2.878922e+07</td>\n",
       "      <td>2.903270e+07</td>\n",
       "      <td>1.291955</td>\n",
       "      <td>103.834030</td>\n",
       "      <td>80.000000</td>\n",
       "      <td>6.000000</td>\n",
       "      <td>0.000000</td>\n",
       "      <td>0.050000</td>\n",
       "      <td>3.000000</td>\n",
       "      <td>151.750000</td>\n",
       "      <td>0.000000</td>\n",
       "    </tr>\n",
       "    <tr>\n",
       "      <th>50%</th>\n",
       "      <td>4.908195e+07</td>\n",
       "      <td>1.282774e+08</td>\n",
       "      <td>1.304368</td>\n",
       "      <td>103.845200</td>\n",
       "      <td>170.000000</td>\n",
       "      <td>92.000000</td>\n",
       "      <td>1.000000</td>\n",
       "      <td>0.180000</td>\n",
       "      <td>12.000000</td>\n",
       "      <td>318.000000</td>\n",
       "      <td>0.000000</td>\n",
       "    </tr>\n",
       "    <tr>\n",
       "      <th>75%</th>\n",
       "      <td>8.964255e+17</td>\n",
       "      <td>2.388916e+08</td>\n",
       "      <td>1.316850</td>\n",
       "      <td>103.859592</td>\n",
       "      <td>286.000000</td>\n",
       "      <td>92.000000</td>\n",
       "      <td>5.000000</td>\n",
       "      <td>0.600000</td>\n",
       "      <td>69.000000</td>\n",
       "      <td>364.000000</td>\n",
       "      <td>0.000000</td>\n",
       "    </tr>\n",
       "    <tr>\n",
       "      <th>max</th>\n",
       "      <td>1.188343e+18</td>\n",
       "      <td>5.818685e+08</td>\n",
       "      <td>1.457802</td>\n",
       "      <td>103.989570</td>\n",
       "      <td>9999.000000</td>\n",
       "      <td>730.000000</td>\n",
       "      <td>908.000000</td>\n",
       "      <td>24.210000</td>\n",
       "      <td>241.000000</td>\n",
       "      <td>365.000000</td>\n",
       "      <td>304.000000</td>\n",
       "    </tr>\n",
       "  </tbody>\n",
       "</table>\n",
       "</div>"
      ],
      "text/plain": [
       "                 id       host_id     latitude    longitude        price  \\\n",
       "count  3.540000e+03  3.540000e+03  3540.000000  3540.000000  2759.000000   \n",
       "mean   4.046376e+17  1.702217e+08     1.309677   103.843171   270.770207   \n",
       "std    4.747930e+17  1.689349e+08     0.030319     0.042670   644.669294   \n",
       "min    7.160900e+04  2.366600e+04     1.221690   103.634572    19.000000   \n",
       "25%    2.878922e+07  2.903270e+07     1.291955   103.834030    80.000000   \n",
       "50%    4.908195e+07  1.282774e+08     1.304368   103.845200   170.000000   \n",
       "75%    8.964255e+17  2.388916e+08     1.316850   103.859592   286.000000   \n",
       "max    1.188343e+18  5.818685e+08     1.457802   103.989570  9999.000000   \n",
       "\n",
       "       minimum_nights  number_of_reviews  reviews_per_month  \\\n",
       "count     3540.000000        3540.000000        1805.000000   \n",
       "mean        63.420621          10.823446           0.620726   \n",
       "std         56.104308          37.480765           1.584823   \n",
       "min          1.000000           0.000000           0.010000   \n",
       "25%          6.000000           0.000000           0.050000   \n",
       "50%         92.000000           1.000000           0.180000   \n",
       "75%         92.000000           5.000000           0.600000   \n",
       "max        730.000000         908.000000          24.210000   \n",
       "\n",
       "       calculated_host_listings_count  availability_365  number_of_reviews_ltm  \n",
       "count                     3540.000000       3540.000000            3540.000000  \n",
       "mean                        46.374011        248.570056               2.432768  \n",
       "std                         65.204057        132.199020              12.405540  \n",
       "min                          1.000000          0.000000               0.000000  \n",
       "25%                          3.000000        151.750000               0.000000  \n",
       "50%                         12.000000        318.000000               0.000000  \n",
       "75%                         69.000000        364.000000               0.000000  \n",
       "max                        241.000000        365.000000             304.000000  "
      ]
     },
     "execution_count": 5,
     "metadata": {},
     "output_type": "execute_result"
    }
   ],
   "source": [
    "df.describe()"
   ]
  },
  {
   "cell_type": "code",
   "execution_count": 6,
   "metadata": {},
   "outputs": [
    {
     "data": {
      "text/plain": [
       "(3540, 18)"
      ]
     },
     "execution_count": 6,
     "metadata": {},
     "output_type": "execute_result"
    }
   ],
   "source": [
    "df.shape"
   ]
  },
  {
   "cell_type": "code",
   "execution_count": 7,
   "metadata": {},
   "outputs": [
    {
     "name": "stdout",
     "output_type": "stream",
     "text": [
      "dataset size:  63720\n",
      "number of hosts:  3540\n",
      "number of features:  18\n"
     ]
    }
   ],
   "source": [
    "#show the number of cells in the dataframe\n",
    "print(\"dataset size: \", df.size)\n",
    "\n",
    "#show the number of records (rows) in the dataframe\n",
    "print(\"number of hosts: \", len(df))\n",
    "\n",
    "#show the number of features (coulmns) in the dataframe\n",
    "print(\"number of features: \", len(df.columns)) "
   ]
  },
  {
   "cell_type": "markdown",
   "metadata": {},
   "source": [
    "# Activities"
   ]
  },
  {
   "cell_type": "markdown",
   "metadata": {},
   "source": [
    "## Let's Clean the Dataset"
   ]
  },
  {
   "cell_type": "markdown",
   "metadata": {},
   "source": [
    "### 1. Find out the missing values in each column"
   ]
  },
  {
   "cell_type": "code",
   "execution_count": 9,
   "metadata": {},
   "outputs": [
    {
     "data": {
      "text/plain": [
       "id                                   0\n",
       "name                                 0\n",
       "host_id                              0\n",
       "host_name                            0\n",
       "neighbourhood_group                  0\n",
       "neighbourhood                        0\n",
       "latitude                             0\n",
       "longitude                            0\n",
       "room_type                            0\n",
       "price                              781\n",
       "minimum_nights                       0\n",
       "number_of_reviews                    0\n",
       "last_review                       1735\n",
       "reviews_per_month                 1735\n",
       "calculated_host_listings_count       0\n",
       "availability_365                     0\n",
       "number_of_reviews_ltm                0\n",
       "license                           2039\n",
       "dtype: int64"
      ]
     },
     "execution_count": 9,
     "metadata": {},
     "output_type": "execute_result"
    }
   ],
   "source": [
    "col_missing_values = df.isna().sum()\n",
    "col_missing_values"
   ]
  },
  {
   "cell_type": "markdown",
   "metadata": {},
   "source": [
    "### 2. Drop the column 'license' as it has many values missing and we will not use it"
   ]
  },
  {
   "cell_type": "code",
   "execution_count": 11,
   "metadata": {},
   "outputs": [],
   "source": [
    "df.drop(columns='license', axis=1, inplace=True)"
   ]
  },
  {
   "cell_type": "code",
   "execution_count": 12,
   "metadata": {},
   "outputs": [
    {
     "data": {
      "text/html": [
       "<div>\n",
       "<style scoped>\n",
       "    .dataframe tbody tr th:only-of-type {\n",
       "        vertical-align: middle;\n",
       "    }\n",
       "\n",
       "    .dataframe tbody tr th {\n",
       "        vertical-align: top;\n",
       "    }\n",
       "\n",
       "    .dataframe thead th {\n",
       "        text-align: right;\n",
       "    }\n",
       "</style>\n",
       "<table border=\"1\" class=\"dataframe\">\n",
       "  <thead>\n",
       "    <tr style=\"text-align: right;\">\n",
       "      <th></th>\n",
       "      <th>id</th>\n",
       "      <th>name</th>\n",
       "      <th>host_id</th>\n",
       "      <th>host_name</th>\n",
       "      <th>neighbourhood_group</th>\n",
       "      <th>neighbourhood</th>\n",
       "      <th>latitude</th>\n",
       "      <th>longitude</th>\n",
       "      <th>room_type</th>\n",
       "      <th>price</th>\n",
       "      <th>minimum_nights</th>\n",
       "      <th>number_of_reviews</th>\n",
       "      <th>last_review</th>\n",
       "      <th>reviews_per_month</th>\n",
       "      <th>calculated_host_listings_count</th>\n",
       "      <th>availability_365</th>\n",
       "      <th>number_of_reviews_ltm</th>\n",
       "    </tr>\n",
       "  </thead>\n",
       "  <tbody>\n",
       "    <tr>\n",
       "      <th>0</th>\n",
       "      <td>71609</td>\n",
       "      <td>Ensuite Room (Room 1 &amp; 2) near EXPO</td>\n",
       "      <td>367042</td>\n",
       "      <td>Belinda</td>\n",
       "      <td>East Region</td>\n",
       "      <td>Tampines</td>\n",
       "      <td>1.34537</td>\n",
       "      <td>103.95887</td>\n",
       "      <td>Private room</td>\n",
       "      <td>NaN</td>\n",
       "      <td>92</td>\n",
       "      <td>19</td>\n",
       "      <td>2020-01-17</td>\n",
       "      <td>0.12</td>\n",
       "      <td>6</td>\n",
       "      <td>89</td>\n",
       "      <td>0</td>\n",
       "    </tr>\n",
       "    <tr>\n",
       "      <th>1</th>\n",
       "      <td>71896</td>\n",
       "      <td>B&amp;B  Room 1 near Airport &amp; EXPO</td>\n",
       "      <td>367042</td>\n",
       "      <td>Belinda</td>\n",
       "      <td>East Region</td>\n",
       "      <td>Tampines</td>\n",
       "      <td>1.34754</td>\n",
       "      <td>103.95958</td>\n",
       "      <td>Private room</td>\n",
       "      <td>80.0</td>\n",
       "      <td>92</td>\n",
       "      <td>24</td>\n",
       "      <td>2019-10-13</td>\n",
       "      <td>0.15</td>\n",
       "      <td>6</td>\n",
       "      <td>148</td>\n",
       "      <td>0</td>\n",
       "    </tr>\n",
       "    <tr>\n",
       "      <th>2</th>\n",
       "      <td>71903</td>\n",
       "      <td>Room 2-near Airport &amp; EXPO</td>\n",
       "      <td>367042</td>\n",
       "      <td>Belinda</td>\n",
       "      <td>East Region</td>\n",
       "      <td>Tampines</td>\n",
       "      <td>1.34531</td>\n",
       "      <td>103.96100</td>\n",
       "      <td>Private room</td>\n",
       "      <td>80.0</td>\n",
       "      <td>92</td>\n",
       "      <td>46</td>\n",
       "      <td>2020-01-09</td>\n",
       "      <td>0.29</td>\n",
       "      <td>6</td>\n",
       "      <td>90</td>\n",
       "      <td>0</td>\n",
       "    </tr>\n",
       "    <tr>\n",
       "      <th>3</th>\n",
       "      <td>275343</td>\n",
       "      <td>10min walk to MRT &amp; a Cozy Room with window! (1)</td>\n",
       "      <td>1439258</td>\n",
       "      <td>Kay</td>\n",
       "      <td>Central Region</td>\n",
       "      <td>Bukit Merah</td>\n",
       "      <td>1.29015</td>\n",
       "      <td>103.80814</td>\n",
       "      <td>Private room</td>\n",
       "      <td>50.0</td>\n",
       "      <td>180</td>\n",
       "      <td>20</td>\n",
       "      <td>2022-08-13</td>\n",
       "      <td>0.15</td>\n",
       "      <td>49</td>\n",
       "      <td>62</td>\n",
       "      <td>0</td>\n",
       "    </tr>\n",
       "    <tr>\n",
       "      <th>4</th>\n",
       "      <td>275344</td>\n",
       "      <td>15 mins to Outram MRT Single Room (2)</td>\n",
       "      <td>1439258</td>\n",
       "      <td>Kay</td>\n",
       "      <td>Central Region</td>\n",
       "      <td>Bukit Merah</td>\n",
       "      <td>1.28836</td>\n",
       "      <td>103.81144</td>\n",
       "      <td>Private room</td>\n",
       "      <td>50.0</td>\n",
       "      <td>180</td>\n",
       "      <td>16</td>\n",
       "      <td>2023-08-16</td>\n",
       "      <td>0.11</td>\n",
       "      <td>49</td>\n",
       "      <td>0</td>\n",
       "      <td>2</td>\n",
       "    </tr>\n",
       "  </tbody>\n",
       "</table>\n",
       "</div>"
      ],
      "text/plain": [
       "       id                                              name  host_id  \\\n",
       "0   71609               Ensuite Room (Room 1 & 2) near EXPO   367042   \n",
       "1   71896                   B&B  Room 1 near Airport & EXPO   367042   \n",
       "2   71903                        Room 2-near Airport & EXPO   367042   \n",
       "3  275343  10min walk to MRT & a Cozy Room with window! (1)  1439258   \n",
       "4  275344             15 mins to Outram MRT Single Room (2)  1439258   \n",
       "\n",
       "  host_name neighbourhood_group neighbourhood  latitude  longitude  \\\n",
       "0   Belinda         East Region      Tampines   1.34537  103.95887   \n",
       "1   Belinda         East Region      Tampines   1.34754  103.95958   \n",
       "2   Belinda         East Region      Tampines   1.34531  103.96100   \n",
       "3       Kay      Central Region   Bukit Merah   1.29015  103.80814   \n",
       "4       Kay      Central Region   Bukit Merah   1.28836  103.81144   \n",
       "\n",
       "      room_type  price  minimum_nights  number_of_reviews last_review  \\\n",
       "0  Private room    NaN              92                 19  2020-01-17   \n",
       "1  Private room   80.0              92                 24  2019-10-13   \n",
       "2  Private room   80.0              92                 46  2020-01-09   \n",
       "3  Private room   50.0             180                 20  2022-08-13   \n",
       "4  Private room   50.0             180                 16  2023-08-16   \n",
       "\n",
       "   reviews_per_month  calculated_host_listings_count  availability_365  \\\n",
       "0               0.12                               6                89   \n",
       "1               0.15                               6               148   \n",
       "2               0.29                               6                90   \n",
       "3               0.15                              49                62   \n",
       "4               0.11                              49                 0   \n",
       "\n",
       "   number_of_reviews_ltm  \n",
       "0                      0  \n",
       "1                      0  \n",
       "2                      0  \n",
       "3                      0  \n",
       "4                      2  "
      ]
     },
     "execution_count": 12,
     "metadata": {},
     "output_type": "execute_result"
    }
   ],
   "source": [
    "df.head()"
   ]
  },
  {
   "cell_type": "markdown",
   "metadata": {},
   "source": [
    "### 3. Drop the rows having more than 1 missing value"
   ]
  },
  {
   "cell_type": "code",
   "execution_count": 13,
   "metadata": {},
   "outputs": [],
   "source": [
    "df_rows_dropped = df.dropna(thresh=2)"
   ]
  },
  {
   "cell_type": "markdown",
   "metadata": {},
   "source": [
    "### 4. Fill the 21 missing values in 'host_name' with the value 'Airbnb'"
   ]
  },
  {
   "cell_type": "code",
   "execution_count": 15,
   "metadata": {},
   "outputs": [],
   "source": [
    "host_total = df['host_name'].fillna('Airbnb')"
   ]
  },
  {
   "cell_type": "markdown",
   "metadata": {},
   "source": [
    "### 5. Check if any name in the Column host_name has digit(s) or number(s) in it"
   ]
  },
  {
   "cell_type": "code",
   "execution_count": 17,
   "metadata": {},
   "outputs": [
    {
     "data": {
      "text/plain": [
       "0"
      ]
     },
     "execution_count": 17,
     "metadata": {},
     "output_type": "execute_result"
    }
   ],
   "source": [
    "df['host_name'].str.isnumeric().sum()"
   ]
  },
  {
   "cell_type": "code",
   "execution_count": 18,
   "metadata": {},
   "outputs": [],
   "source": [
    "# host_name has no digit(s) or number(s)"
   ]
  },
  {
   "cell_type": "markdown",
   "metadata": {},
   "source": [
    "### 6. Fill the 2 missing values of the column price with the mean of the column"
   ]
  },
  {
   "cell_type": "code",
   "execution_count": 19,
   "metadata": {},
   "outputs": [],
   "source": [
    "mean_df_price = df['price'].fillna(df['price'].mean())"
   ]
  },
  {
   "cell_type": "markdown",
   "metadata": {},
   "source": [
    "### 7. Select duplicate hosts in a dataframe based on name, host_id, and price columns"
   ]
  },
  {
   "cell_type": "code",
   "execution_count": 27,
   "metadata": {},
   "outputs": [],
   "source": [
    "duplicate_hosts = df[df.duplicated(subset=['name', 'host_id', 'price'], keep=False)]"
   ]
  },
  {
   "cell_type": "code",
   "execution_count": 30,
   "metadata": {},
   "outputs": [
    {
     "data": {
      "text/plain": [
       "(154, 17)"
      ]
     },
     "execution_count": 30,
     "metadata": {},
     "output_type": "execute_result"
    }
   ],
   "source": [
    "duplicate_hosts.shape\n"
   ]
  },
  {
   "cell_type": "markdown",
   "metadata": {},
   "source": [
    "### 8. Drop duplicates while keeping the first non-NaN value based on name, host_id, and price columns"
   ]
  },
  {
   "cell_type": "code",
   "execution_count": 31,
   "metadata": {},
   "outputs": [],
   "source": [
    "df_unique_hosts = df.drop_duplicates(subset=['name', 'host_id', 'price'], keep='first')"
   ]
  },
  {
   "cell_type": "code",
   "execution_count": 32,
   "metadata": {},
   "outputs": [
    {
     "data": {
      "text/plain": [
       "(3451, 17)"
      ]
     },
     "execution_count": 32,
     "metadata": {},
     "output_type": "execute_result"
    }
   ],
   "source": [
    "df_unique_hosts.shape"
   ]
  },
  {
   "cell_type": "markdown",
   "metadata": {},
   "source": [
    "### 9. How many users in the Column room_type are Private room?"
   ]
  },
  {
   "cell_type": "code",
   "execution_count": 34,
   "metadata": {},
   "outputs": [
    {
     "data": {
      "text/plain": [
       "1708"
      ]
     },
     "execution_count": 34,
     "metadata": {},
     "output_type": "execute_result"
    }
   ],
   "source": [
    "private_room_counts = df['room_type'].str.count('Private room').sum()\n",
    "private_room_counts"
   ]
  },
  {
   "cell_type": "markdown",
   "metadata": {},
   "source": [
    "### 10. Find the words in Column name which contain the substring park"
   ]
  },
  {
   "cell_type": "code",
   "execution_count": 37,
   "metadata": {},
   "outputs": [
    {
     "data": {
      "text/plain": [
       "21"
      ]
     },
     "execution_count": 37,
     "metadata": {},
     "output_type": "execute_result"
    }
   ],
   "source": [
    "names_having_park = df['name'].str.contains('park').sum()\n",
    "names_having_park"
   ]
  },
  {
   "cell_type": "markdown",
   "metadata": {},
   "source": [
    "### 11. Replace the neighbourhood having Kitchen with Restaurant"
   ]
  },
  {
   "cell_type": "code",
   "execution_count": 39,
   "metadata": {},
   "outputs": [
    {
     "data": {
      "text/plain": [
       "0            Tampines\n",
       "1            Tampines\n",
       "2            Tampines\n",
       "3         Bukit Merah\n",
       "4         Bukit Merah\n",
       "            ...      \n",
       "3535         Tampines\n",
       "3536        Woodlands\n",
       "3537    Downtown Core\n",
       "3538          Geylang\n",
       "3539          Geylang\n",
       "Name: neighbourhood, Length: 3540, dtype: object"
      ]
     },
     "execution_count": 39,
     "metadata": {},
     "output_type": "execute_result"
    }
   ],
   "source": [
    "kitchen_to_restaurant = df['neighbourhood'].str.replace('Kitchen', 'Restaurant')\n",
    "kitchen_to_restaurant"
   ]
  },
  {
   "cell_type": "code",
   "execution_count": 41,
   "metadata": {},
   "outputs": [
    {
     "data": {
      "text/plain": [
       "0"
      ]
     },
     "execution_count": 41,
     "metadata": {},
     "output_type": "execute_result"
    }
   ],
   "source": [
    "kitchen_to_restaurant.str.contains('Kitchen').sum()"
   ]
  },
  {
   "cell_type": "markdown",
   "metadata": {},
   "source": [
    "### 12. Split the strings in the room_type column at   (space) to find whether it is room or home/apt"
   ]
  },
  {
   "cell_type": "code",
   "execution_count": 42,
   "metadata": {},
   "outputs": [],
   "source": [
    "roomOrhome = df['room_type'].str.split(' ').str[1]"
   ]
  },
  {
   "cell_type": "markdown",
   "metadata": {},
   "source": [
    "### 13. Clean the column availability_365 by removing invalid values"
   ]
  },
  {
   "cell_type": "code",
   "execution_count": 45,
   "metadata": {},
   "outputs": [],
   "source": [
    "df_invalid_availability_365 = df.loc[df['availability_365'] == 0]\n"
   ]
  },
  {
   "cell_type": "markdown",
   "metadata": {},
   "source": [
    "### 14. Identify outliers in minimum_nights column"
   ]
  },
  {
   "cell_type": "code",
   "execution_count": 46,
   "metadata": {},
   "outputs": [
    {
     "data": {
      "text/plain": [
       "Text(0, 0.5, 'Frequency')"
      ]
     },
     "execution_count": 46,
     "metadata": {},
     "output_type": "execute_result"
    },
    {
     "data": {
      "image/png": "[encoded data removed]",
      "text/plain": [
       "<Figure size 640x480 with 1 Axes>"
      ]
     },
     "metadata": {},
     "output_type": "display_data"
    }
   ],
   "source": [
    "Nights_plot = df['minimum_nights'].plot(kind='hist')\n",
    "Nights_plot.set_yscale('log')\n",
    "Nights_plot.set_xlabel('minimum_nights')\n",
    "Nights_plot.set_ylabel('Frequency')"
   ]
  },
  {
   "cell_type": "code",
   "execution_count": 47,
   "metadata": {},
   "outputs": [],
   "source": [
    "df_nights = df.copy()\n",
    "df_nights['Min_Nights_cleaned'] = ((df_nights['minimum_nights'] - df_nights['minimum_nights'].mean()) /  df_nights['minimum_nights'].std()).abs() >= 43"
   ]
  },
  {
   "cell_type": "markdown",
   "metadata": {},
   "source": [
    "### 15. Identify outliers in price column"
   ]
  },
  {
   "cell_type": "code",
   "execution_count": 48,
   "metadata": {},
   "outputs": [
    {
     "data": {
      "image/png": "[encoded data removed]",
      "text/plain": [
       "<Figure size 640x480 with 1 Axes>"
      ]
     },
     "metadata": {},
     "output_type": "display_data"
    }
   ],
   "source": [
    "df_Price = df.copy()\n",
    "Price_plot = df_Price['price'].plot(kind='box')\n",
    "Price_plot.set_yscale('log')"
   ]
  },
  {
   "cell_type": "code",
   "execution_count": 49,
   "metadata": {},
   "outputs": [],
   "source": [
    "Q1 = df_Price['price'].quantile(0.25)\n",
    "Q3 = df_Price['price'].quantile(0.75)\n",
    "IQR = Q3 - Q1\n",
    "df_Price['Price_cleaned'] = ((df_Price['price'] < Q1 - 1.5 * IQR) | (df_Price['price'] > Q3 + 1.5 * IQR))"
   ]
  },
  {
   "cell_type": "markdown",
   "metadata": {},
   "source": []
  }
 ],
 "metadata": {
  "kernelspec": {
   "display_name": "TestTube",
   "language": "python",
   "name": "python3"
  },
  "language_info": {
   "codemirror_mode": {
    "name": "ipython",
    "version": 3
   },
   "file_extension": ".py",
   "mimetype": "text/x-python",
   "name": "python",
   "nbconvert_exporter": "python",
   "pygments_lexer": "ipython3",
   "version": "3.12.4"
  }
 },
 "nbformat": 4,
 "nbformat_minor": 2
}
